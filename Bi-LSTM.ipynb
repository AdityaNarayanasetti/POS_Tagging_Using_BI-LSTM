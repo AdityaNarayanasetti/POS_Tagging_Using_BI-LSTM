{
 "cells": [
  {
   "cell_type": "code",
   "execution_count": 85,
   "metadata": {
    "colab": {},
    "colab_type": "code",
    "id": "Z6hZIT1Cbeyj"
   },
   "outputs": [],
   "source": [
    "import nltk\n",
    "import numpy as np\n",
    "import pandas as pd\n",
    "from sklearn.model_selection import train_test_split\n",
    "import nltk\n",
    "from nltk.corpus import indian\n",
    "from nltk.tag import tnt\n",
    "from nltk.tag import DefaultTagger\n",
    "from gensim.models import FastText"
   ]
  },
  {
   "cell_type": "code",
   "execution_count": 86,
   "metadata": {},
   "outputs": [],
   "source": [
    "import tensorflow.keras as keras\n",
    "from keras.models import Sequential\n",
    "from keras.layers import Dense, LSTM, InputLayer, Bidirectional, TimeDistributed, Embedding, Activation\n",
    "from keras.optimizers import Adam"
   ]
  },
  {
   "cell_type": "code",
   "execution_count": 93,
   "metadata": {},
   "outputs": [
    {
     "name": "stdout",
     "output_type": "stream",
     "text": [
      "[('यह', 'DET'), ('एशिया', 'PROPN'), ('की', 'ADP'), ('सबसे', 'ADV'), ('बड़ी', 'ADJ'), ('मस्जिदों', 'NOUN'), ('में', 'ADP'), ('से', 'ADP'), ('एक', 'NUM'), ('है', 'AUX'), ('।', 'PUNCT')]\n"
     ]
    }
   ],
   "source": [
    "from conllu import parse\n",
    "\n",
    "# Load the CoNLL-U file\n",
    "with open('hi_hdtb-ud-train.conllu', 'r', encoding='utf-8') as f:\n",
    "    data = f.read()\n",
    "\n",
    "# Parse the CoNLL-U data\n",
    "sentences = parse(data)\n",
    "\n",
    "# Iterate through sentences and tokens\n",
    "a = []\n",
    "for sentence in sentences:\n",
    "    b = []\n",
    "    for token in sentence:\n",
    "        word = token['form']  # Get the word\n",
    "        lemma = token['lemma']  # Get the lemma\n",
    "        pos = token['upos']  # Get the universal part-of-speech tag\n",
    "        head = token['head']  # Get the head index\n",
    "        dep = token['deprel']  # Get the dependency label\n",
    "        b.append(tuple((word,pos)))\n",
    "        # Print or process the extracted information as needed\n",
    "        #print(f\"Word: {word}, Lemma: {lemma}, POS: {pos}, Head: {head}, Dep: {dep}\")\n",
    "    a.append(b)\n",
    "        \n"
   ]
  },
  {
   "cell_type": "code",
   "execution_count": 98,
   "metadata": {},
   "outputs": [
    {
     "name": "stdout",
     "output_type": "stream",
     "text": [
      "[('यहाँ', 'PRON'), ('आदिवासी', 'NOUN'), (',', 'PUNCT'), ('समुद्र', 'NOUN'), ('किनारे', 'NOUN'), (',', 'PUNCT'), ('रेगिस्तान', 'NOUN'), ('और', 'CCONJ'), ('हिमालय', 'PROPN'), ('के', 'ADP'), ('आवासों', 'NOUN'), ('के', 'ADP'), ('नमूने', 'NOUN'), ('भी', 'PART'), ('बनाए', 'VERB'), ('गए', 'AUX'), ('हैं', 'AUX'), ('।', 'PUNCT')]\n"
     ]
    }
   ],
   "source": [
    "print(a[17])"
   ]
  },
  {
   "cell_type": "code",
   "execution_count": 99,
   "metadata": {
    "colab": {
     "base_uri": "https://localhost:8080/",
     "height": 102
    },
    "colab_type": "code",
    "id": "MK7z5ERJbey3",
    "outputId": "7ee8324d-8ef3-40c8-95cf-a387d162e848"
   },
   "outputs": [
    {
     "name": "stderr",
     "output_type": "stream",
     "text": [
      "[nltk_data] Downloading package indian to\n",
      "[nltk_data]     C:\\Users\\Praveen\\AppData\\Roaming\\nltk_data...\n",
      "[nltk_data]   Package indian is already up-to-date!\n",
      "[nltk_data] Downloading package brown to\n",
      "[nltk_data]     C:\\Users\\Praveen\\AppData\\Roaming\\nltk_data...\n",
      "[nltk_data]   Package brown is already up-to-date!\n",
      "[nltk_data] Downloading package universal_tagset to\n",
      "[nltk_data]     C:\\Users\\Praveen\\AppData\\Roaming\\nltk_data...\n",
      "[nltk_data]   Package universal_tagset is already up-to-date!\n"
     ]
    },
    {
     "data": {
      "text/plain": [
       "True"
      ]
     },
     "execution_count": 99,
     "metadata": {},
     "output_type": "execute_result"
    }
   ],
   "source": [
    "nltk.download(\"indian\")\n",
    "nltk.download('brown')\n",
    "nltk.download('universal_tagset')"
   ]
  },
  {
   "cell_type": "code",
   "execution_count": 100,
   "metadata": {
    "colab": {},
    "colab_type": "code",
    "id": "mqiK0kP3bezE"
   },
   "outputs": [
    {
     "name": "stdout",
     "output_type": "stream",
     "text": [
      "13306\n",
      "[('यहाँ', 'PRON'), ('आदिवासी', 'NOUN'), (',', 'PUNCT'), ('समुद्र', 'NOUN'), ('किनारे', 'NOUN'), (',', 'PUNCT'), ('रेगिस्तान', 'NOUN'), ('और', 'CCONJ'), ('हिमालय', 'PROPN'), ('के', 'ADP'), ('आवासों', 'NOUN'), ('के', 'ADP'), ('नमूने', 'NOUN'), ('भी', 'PART'), ('बनाए', 'VERB'), ('गए', 'AUX'), ('हैं', 'AUX'), ('।', 'PUNCT')]\n"
     ]
    }
   ],
   "source": [
    "tagged_sentences = indian.tagged_sents('hindi.pos')\n",
    "\n",
    "brown_corpus_sent = list(nltk.corpus.brown.tagged_sents(tagset='universal'))\n",
    "brown_corpus_sent = tagged_sentences\n",
    "brown_corpus_sent = a\n",
    "print(len(brown_corpus_sent))\n",
    "print(brown_corpus_sent[17])"
   ]
  },
  {
   "cell_type": "code",
   "execution_count": 101,
   "metadata": {
    "colab": {
     "base_uri": "https://localhost:8080/",
     "height": 68
    },
    "colab_type": "code",
    "id": "EukxIeOsbezL",
    "outputId": "5db300b3-03fa-4ba0-8bc7-2dd0371357e5"
   },
   "outputs": [
    {
     "name": "stdout",
     "output_type": "stream",
     "text": [
      "[('यह', 'DET'), ('एशिया', 'PROPN'), ('की', 'ADP'), ('सबसे', 'ADV'), ('बड़ी', 'ADJ'), ('मस्जिदों', 'NOUN'), ('में', 'ADP'), ('से', 'ADP'), ('एक', 'NUM'), ('है', 'AUX'), ('।', 'PUNCT')]\n",
      "Total sentences with tags:  13306\n",
      "total tagged words: 1161192\n"
     ]
    },
    {
     "data": {
      "text/plain": [
       "('एशिया', 'PROPN')"
      ]
     },
     "execution_count": 101,
     "metadata": {},
     "output_type": "execute_result"
    }
   ],
   "source": [
    "print(brown_corpus_sent[0])\n",
    "print(\"Total sentences with tags: \", len(brown_corpus_sent))\n",
    "print(\"total tagged words:\", len(nltk.corpus.brown.tagged_words()))\n",
    "brown_corpus_sent[0][1]"
   ]
  },
  {
   "cell_type": "markdown",
   "metadata": {
    "colab_type": "text",
    "id": "xnmRttMfbezS"
   },
   "source": [
    "#### Pre processing"
   ]
  },
  {
   "cell_type": "code",
   "execution_count": 102,
   "metadata": {
    "colab": {},
    "colab_type": "code",
    "id": "t9_iqJFLbezU"
   },
   "outputs": [],
   "source": [
    "sentences, sentence_tags =[], [] \n",
    "for tagged_sentence in brown_corpus_sent:\n",
    "    sentence, tags = zip(*tagged_sentence)\n",
    "    sentences.append(np.array(sentence))\n",
    "    sentence_tags.append(np.array(tags))\n"
   ]
  },
  {
   "cell_type": "code",
   "execution_count": 103,
   "metadata": {
    "colab": {},
    "colab_type": "code",
    "id": "uqTZW6tupejL"
   },
   "outputs": [],
   "source": [
    "num_sents = len(sentences)\n",
    "k = 5\n",
    "foldsize = int(num_sents/5)\n",
    "\n",
    "\n",
    "k_folds = {}\n",
    "for i in range(5):\n",
    "    # Locate the test set in the fold.\n",
    "    k_folds[\"test_sent{0}\".format(i)] = sentences[i*foldsize:i*foldsize+foldsize]\n",
    "    k_folds[\"train_sent{0}\".format(i)] = sentences[:i*foldsize] + sentences[i*foldsize+foldsize:]\n",
    "    k_folds[\"test_tags{0}\".format(i)] = sentence_tags[i*foldsize:i*foldsize+foldsize]\n",
    "    k_folds[\"train_tags{0}\".format(i)] = sentence_tags[:i*foldsize] + sentence_tags[i*foldsize+foldsize:]"
   ]
  },
  {
   "cell_type": "code",
   "execution_count": 104,
   "metadata": {
    "colab": {},
    "colab_type": "code",
    "id": "CfUCRHDYqWWd"
   },
   "outputs": [],
   "source": [
    "training_sentences, test_sentences, training_tags, test_tags = k_folds['train_sent4'],k_folds['test_sent4'],k_folds['train_tags4'],k_folds['test_tags4']"
   ]
  },
  {
   "cell_type": "code",
   "execution_count": 105,
   "metadata": {
    "colab": {},
    "colab_type": "code",
    "id": "4QpCZPOYbezj"
   },
   "outputs": [],
   "source": [
    "vocab = set([])\n",
    "unique_tags = set([])\n",
    "for sent in training_sentences:\n",
    "    for word in sent:\n",
    "        vocab.add(word.lower())\n",
    "for sent_tag in training_tags:\n",
    "    for tag in sent_tag:\n",
    "        unique_tags.add(tag)"
   ]
  },
  {
   "cell_type": "code",
   "execution_count": 106,
   "metadata": {
    "colab": {
     "base_uri": "https://localhost:8080/",
     "height": 34
    },
    "colab_type": "code",
    "id": "dXcmYz1Mbezt",
    "outputId": "9dc8aea5-e13f-4ad6-a8c8-19c7b8d7de99"
   },
   "outputs": [
    {
     "name": "stdout",
     "output_type": "stream",
     "text": [
      "16 15078\n"
     ]
    }
   ],
   "source": [
    "print(len(unique_tags),len(vocab))"
   ]
  },
  {
   "cell_type": "code",
   "execution_count": 107,
   "metadata": {
    "colab": {},
    "colab_type": "code",
    "id": "wFIaDGSobez0"
   },
   "outputs": [],
   "source": [
    "#Converting words to integer and adding pad and unkonwn words as integer as 0 and 1\n",
    "word2int = {word: i + 2 for i, word in enumerate(list(vocab))}\n",
    "word2int['-PAD-'] = 0\n",
    "word2int['-UNK-'] = 1 \n",
    "#print(word2int)\n",
    "tag2int = {tag: i + 1 for i, tag in enumerate(list(unique_tags))}\n",
    "tag2int['-PAD-'] = 0  "
   ]
  },
  {
   "cell_type": "code",
   "execution_count": 108,
   "metadata": {
    "colab": {
     "base_uri": "https://localhost:8080/",
     "height": 34
    },
    "colab_type": "code",
    "id": "IpDv7b7Tbez7",
    "outputId": "a8d29c0f-1ec7-487f-df0b-39ded0203bd9"
   },
   "outputs": [],
   "source": [
    "#word2int['were'], tag2int[\"ADJ\"]"
   ]
  },
  {
   "cell_type": "code",
   "execution_count": 109,
   "metadata": {
    "colab": {},
    "colab_type": "code",
    "id": "3uIuF22Nbe0C"
   },
   "outputs": [],
   "source": [
    "#Convert test and trainig dataset to integer\n",
    "X_train, X_test, Y_train, Y_test = [],[],[],[]\n",
    "for sent in training_sentences:\n",
    "    sent_to_int = []\n",
    "    for word in sent:\n",
    "        try:\n",
    "            sent_to_int.append(word2int[word.lower()])\n",
    "        except KeyError:\n",
    "            sent_to_int.append(word2int['-UNK-'])\n",
    "    X_train.append(sent_to_int)\n",
    "\n",
    "for sent in test_sentences:\n",
    "    sent_to_int = []\n",
    "    for word in sent:\n",
    "        try:\n",
    "            sent_to_int.append(word2int[word.lower()])\n",
    "        except KeyError:\n",
    "            sent_to_int.append(word2int['-UNK-'])\n",
    "    X_test.append(sent_to_int)\n",
    "    \n",
    "    \n",
    "for sent_tag in training_tags:\n",
    "    Y_train.append([tag2int[tag] for tag in sent_tag])\n",
    "    \n",
    "for sent_tag in test_tags:\n",
    "    Y_test.append([tag2int[tag] for tag in sent_tag])"
   ]
  },
  {
   "cell_type": "code",
   "execution_count": 110,
   "metadata": {
    "colab": {
     "base_uri": "https://localhost:8080/",
     "height": 105
    },
    "colab_type": "code",
    "id": "x3nxnJ83be0H",
    "outputId": "64e04b50-c120-48d5-f8ed-00e79016570d"
   },
   "outputs": [
    {
     "name": "stdout",
     "output_type": "stream",
     "text": [
      "[1440, 9764, 2106, 8158, 9778, 4348, 5467, 14915, 2093, 5355, 12528] \n",
      " [11, 13, 14, 9, 10, 6, 14, 14, 7, 4, 2]\n",
      "[11984, 2088, 14859, 449, 2011, 14972, 8513, 2974, 11609, 1532, 12437, 14915, 8316, 3649, 70, 5228, 2106, 14341, 984, 3769, 9362, 5028, 7572, 9889, 12528] \n",
      " [13, 11, 6, 14, 12, 6, 14, 6, 14, 10, 6, 14, 12, 6, 8, 15, 14, 6, 15, 14, 6, 15, 4, 4, 2]\n"
     ]
    }
   ],
   "source": [
    "print(X_train[0],\"\\n\",Y_train[0])\n",
    "print(X_test[0],\"\\n\",Y_test[0])"
   ]
  },
  {
   "cell_type": "code",
   "execution_count": 111,
   "metadata": {
    "colab": {
     "base_uri": "https://localhost:8080/",
     "height": 34
    },
    "colab_type": "code",
    "id": "aS_yp4S-be0O",
    "outputId": "7a40ffd4-16d1-4cc7-f23d-0cc21f63b5cc"
   },
   "outputs": [
    {
     "name": "stdout",
     "output_type": "stream",
     "text": [
      "116\n"
     ]
    }
   ],
   "source": [
    "#Now we add padding to every sentence for equalling the length to max length of sentences\n",
    "MAX_LENGTH = len(max(X_train, key=len))\n",
    "print(MAX_LENGTH) \n"
   ]
  },
  {
   "cell_type": "code",
   "execution_count": 112,
   "metadata": {
    "colab": {},
    "colab_type": "code",
    "id": "8hYBacvube0T"
   },
   "outputs": [],
   "source": [
    "from keras.preprocessing.sequence import pad_sequences\n",
    "\n",
    "X_train = pad_sequences(X_train, maxlen=MAX_LENGTH, padding='post')\n",
    "X_test = pad_sequences(X_test, maxlen=MAX_LENGTH, padding='post')\n",
    "Y_train = pad_sequences(Y_train, maxlen=MAX_LENGTH, padding='post')\n",
    "Y_test = pad_sequences(Y_test, maxlen=MAX_LENGTH, padding='post')\n",
    " \n",
    "#print(X_train[0])\n",
    "#print(X_test[0])\n",
    "#print(Y_train[0])\n",
    "#print(Y_test[0])"
   ]
  },
  {
   "cell_type": "markdown",
   "metadata": {
    "colab_type": "text",
    "id": "hzJv0Y0DJNId"
   },
   "source": [
    "### Model Building using keras"
   ]
  },
  {
   "cell_type": "code",
   "execution_count": 113,
   "metadata": {
    "colab": {},
    "colab_type": "code",
    "id": "ONkKhU7obe0c"
   },
   "outputs": [],
   "source": [
    "#we will define the accuracy without consideration of padding beacause if not then accuracy will be high due to \n",
    "#prediction of padding tags\n",
    "\n",
    "from keras import backend as K\n",
    " \n",
    "def no_pad_accuracy(to_ignore=0):\n",
    "    def ignore_accuracy(y_true, y_pred):\n",
    "        y_true_class = K.argmax(y_true, axis=-1)\n",
    "        y_pred_class = K.argmax(y_pred, axis=-1)\n",
    " \n",
    "        ignore_mask = K.cast(K.not_equal(y_pred_class, to_ignore), 'int32')\n",
    "        matches = K.cast(K.equal(y_true_class, y_pred_class), 'int32') * ignore_mask\n",
    "        accuracy = K.sum(matches) / K.maximum(K.sum(ignore_mask), 1)\n",
    "        return accuracy\n",
    "    return ignore_accuracy"
   ]
  },
  {
   "cell_type": "code",
   "execution_count": 114,
   "metadata": {
    "colab": {},
    "colab_type": "code",
    "id": "A23QZY-7be0h"
   },
   "outputs": [],
   "source": [
    "#Now we define the network architecture\n",
    "#we will use the word embeddins for word to vector\n",
    "#we have used Bidirectional LSTM, and model return a sequence\n",
    "\n",
    "#first import library\n",
    "\n",
    "from keras.models import Sequential\n",
    "from keras.layers import Dense, LSTM, InputLayer, Bidirectional, TimeDistributed, Embedding, Activation\n",
    "from keras.optimizers import Adam"
   ]
  },
  {
   "cell_type": "code",
   "execution_count": 115,
   "metadata": {
    "colab": {
     "base_uri": "https://localhost:8080/",
     "height": 289
    },
    "colab_type": "code",
    "id": "8oPDTMpPbe0m",
    "outputId": "3d2fcdcd-3dde-48c8-a45f-d61480a59d9f"
   },
   "outputs": [
    {
     "name": "stdout",
     "output_type": "stream",
     "text": [
      "Model: \"sequential_2\"\n",
      "_________________________________________________________________\n",
      " Layer (type)                Output Shape              Param #   \n",
      "=================================================================\n",
      " embedding_2 (Embedding)     (None, 116, 128)          1930240   \n",
      "                                                                 \n",
      " bidirectional_2 (Bidirecti  (None, 116, 512)          788480    \n",
      " onal)                                                           \n",
      "                                                                 \n",
      " time_distributed_2 (TimeDi  (None, 116, 17)           8721      \n",
      " stributed)                                                      \n",
      "                                                                 \n",
      " activation_2 (Activation)   (None, 116, 17)           0         \n",
      "                                                                 \n",
      "=================================================================\n",
      "Total params: 2727441 (10.40 MB)\n",
      "Trainable params: 2727441 (10.40 MB)\n",
      "Non-trainable params: 0 (0.00 Byte)\n",
      "_________________________________________________________________\n"
     ]
    }
   ],
   "source": [
    "model = Sequential()\n",
    "model.add(InputLayer(input_shape=(MAX_LENGTH, )))\n",
    "model.add(Embedding(len(word2int), 128))\n",
    "model.add(Bidirectional(LSTM(256, return_sequences=True)))\n",
    "model.add(TimeDistributed(Dense(len(tag2int))))\n",
    "model.add(Activation('softmax'))\n",
    " \n",
    "model.compile(loss='categorical_crossentropy',\n",
    "              optimizer=Adam(0.001),\n",
    "              metrics=['accuracy',no_pad_accuracy(0)])\n",
    " \n",
    "model.summary()"
   ]
  },
  {
   "cell_type": "code",
   "execution_count": 116,
   "metadata": {
    "colab": {},
    "colab_type": "code",
    "id": "j9SpzeLxbe0q"
   },
   "outputs": [],
   "source": [
    "#Convert to one hot vector\n",
    "\n",
    "def to_categorical(sequences, categories):\n",
    "    cat_sequences = []\n",
    "    for s in sequences:\n",
    "        cats = []\n",
    "        for item in s:\n",
    "            cats.append(np.zeros(categories))\n",
    "            cats[-1][item] = 1.0\n",
    "        cat_sequences.append(cats)\n",
    "    return np.array(cat_sequences)\n",
    " "
   ]
  },
  {
   "cell_type": "code",
   "execution_count": 117,
   "metadata": {
    "colab": {},
    "colab_type": "code",
    "id": "6XOqkTYZbe0u"
   },
   "outputs": [],
   "source": [
    "cat_train_tags_y = to_categorical(Y_train, len(tag2int))\n"
   ]
  },
  {
   "cell_type": "code",
   "execution_count": 118,
   "metadata": {
    "colab": {
     "base_uri": "https://localhost:8080/",
     "height": 136
    },
    "colab_type": "code",
    "id": "GQQh3VM5be0y",
    "outputId": "cd4f4fcd-6e6b-498f-9c58-16ef05fdaf75"
   },
   "outputs": [
    {
     "data": {
      "text/plain": [
       "array([[0., 0., 0., ..., 0., 0., 0.],\n",
       "       [0., 0., 0., ..., 0., 0., 0.],\n",
       "       [0., 0., 0., ..., 1., 0., 0.],\n",
       "       ...,\n",
       "       [1., 0., 0., ..., 0., 0., 0.],\n",
       "       [1., 0., 0., ..., 0., 0., 0.],\n",
       "       [1., 0., 0., ..., 0., 0., 0.]])"
      ]
     },
     "execution_count": 118,
     "metadata": {},
     "output_type": "execute_result"
    }
   ],
   "source": [
    "cat_train_tags_y[0]"
   ]
  },
  {
   "cell_type": "markdown",
   "metadata": {
    "colab_type": "text",
    "id": "kaEwfFy2Jfnv"
   },
   "source": [
    "### Model Training"
   ]
  },
  {
   "cell_type": "code",
   "execution_count": 119,
   "metadata": {
    "colab": {
     "base_uri": "https://localhost:8080/",
     "height": 394
    },
    "colab_type": "code",
    "id": "t3mzQsLkbe1T",
    "outputId": "06b963ce-1123-4448-8880-41fcab68e4fc"
   },
   "outputs": [
    {
     "name": "stdout",
     "output_type": "stream",
     "text": [
      "Epoch 1/10\n",
      "67/67 [==============================] - 116s 2s/step - loss: 0.6141 - accuracy: 0.8392 - ignore_accuracy: 0.2088 - val_loss: 0.4042 - val_accuracy: 0.8581 - val_ignore_accuracy: 0.2525\n",
      "Epoch 2/10\n",
      "67/67 [==============================] - 111s 2s/step - loss: 0.3671 - accuracy: 0.8901 - ignore_accuracy: 0.3956 - val_loss: 0.3454 - val_accuracy: 0.8989 - val_ignore_accuracy: 0.4581\n",
      "Epoch 3/10\n",
      "67/67 [==============================] - 122s 2s/step - loss: 0.2770 - accuracy: 0.9214 - ignore_accuracy: 0.5628 - val_loss: 0.2083 - val_accuracy: 0.9367 - val_ignore_accuracy: 0.6596\n",
      "Epoch 4/10\n",
      "67/67 [==============================] - 116s 2s/step - loss: 0.1508 - accuracy: 0.9546 - ignore_accuracy: 0.7478 - val_loss: 0.1020 - val_accuracy: 0.9703 - val_ignore_accuracy: 0.8400\n",
      "Epoch 5/10\n",
      "67/67 [==============================] - 115s 2s/step - loss: 0.0663 - accuracy: 0.9833 - ignore_accuracy: 0.9070 - val_loss: 0.0561 - val_accuracy: 0.9841 - val_ignore_accuracy: 0.9146\n",
      "Epoch 6/10\n",
      "67/67 [==============================] - 121s 2s/step - loss: 0.0356 - accuracy: 0.9910 - ignore_accuracy: 0.9498 - val_loss: 0.0438 - val_accuracy: 0.9870 - val_ignore_accuracy: 0.9301\n",
      "Epoch 7/10\n",
      "67/67 [==============================] - 122s 2s/step - loss: 0.0249 - accuracy: 0.9935 - ignore_accuracy: 0.9639 - val_loss: 0.0381 - val_accuracy: 0.9883 - val_ignore_accuracy: 0.9369\n",
      "Epoch 8/10\n",
      "67/67 [==============================] - 128s 2s/step - loss: 0.0196 - accuracy: 0.9948 - ignore_accuracy: 0.9710 - val_loss: 0.0361 - val_accuracy: 0.9887 - val_ignore_accuracy: 0.9392\n",
      "Epoch 9/10\n",
      "67/67 [==============================] - 121s 2s/step - loss: 0.0162 - accuracy: 0.9956 - ignore_accuracy: 0.9752 - val_loss: 0.0372 - val_accuracy: 0.9886 - val_ignore_accuracy: 0.9384\n",
      "Epoch 10/10\n",
      "67/67 [==============================] - 117s 2s/step - loss: 0.0137 - accuracy: 0.9962 - ignore_accuracy: 0.9787 - val_loss: 0.0365 - val_accuracy: 0.9888 - val_ignore_accuracy: 0.9394\n"
     ]
    },
    {
     "data": {
      "text/plain": [
       "<keras.src.callbacks.History at 0x1824b21a0e0>"
      ]
     },
     "execution_count": 119,
     "metadata": {},
     "output_type": "execute_result"
    }
   ],
   "source": [
    "model.fit(X_train, to_categorical(Y_train, len(tag2int)), batch_size=128, epochs=10, validation_split=0.2)\n"
   ]
  },
  {
   "cell_type": "code",
   "execution_count": 120,
   "metadata": {
    "colab": {
     "base_uri": "https://localhost:8080/",
     "height": 51
    },
    "colab_type": "code",
    "id": "83fOhYGlbe1b",
    "outputId": "1d0cb985-5e28-409a-f190-29bd36d5fdb0"
   },
   "outputs": [
    {
     "name": "stdout",
     "output_type": "stream",
     "text": [
      "84/84 [==============================] - 19s 229ms/step - loss: 0.0368 - accuracy: 0.9889 - ignore_accuracy: 0.9412\n",
      "ignore_accuracy: 94.12344098091125\n"
     ]
    }
   ],
   "source": [
    "scores = model.evaluate(X_test, to_categorical(Y_test, len(tag2int)))\n",
    "print(f\"{model.metrics_names[2]}: {scores[2] * 100}\")   "
   ]
  },
  {
   "cell_type": "markdown",
   "metadata": {
    "colab_type": "text",
    "id": "bB6rlP21Gy47"
   },
   "source": [
    "### Sample Example try"
   ]
  },
  {
   "cell_type": "code",
   "execution_count": 121,
   "metadata": {
    "colab": {
     "base_uri": "https://localhost:8080/",
     "height": 34
    },
    "colab_type": "code",
    "id": "uBIkJZVjvoh8",
    "outputId": "df0684e6-5f2a-4c1c-c23a-58b97dfd6a17"
   },
   "outputs": [
    {
     "name": "stdout",
     "output_type": "stream",
     "text": [
      "[['we', 'will', 'be', 'having', 'a', 'quiz', 'on', 'monday', '.'], ['I', 'am', 'very', 'big', 'fan', 'of', 'lionel', \"messi's\", 'playing', 'style', '.']]\n"
     ]
    }
   ],
   "source": [
    "test_samples = [\n",
    "    \"we will be having a quiz on monday .\".split(),\n",
    "    \"I am very big fan of lionel messi's playing style .\".split()\n",
    "]\n",
    "print(test_samples)"
   ]
  },
  {
   "cell_type": "code",
   "execution_count": 125,
   "metadata": {
    "colab": {
     "base_uri": "https://localhost:8080/",
     "height": 527
    },
    "colab_type": "code",
    "id": "qFosmuMxdrJh",
    "outputId": "8b1a3ba7-b9f3-4df6-fd2d-60f6dc161563"
   },
   "outputs": [
    {
     "name": "stdout",
     "output_type": "stream",
     "text": [
      "[[   1    1    1    1    1    1    1    1 9536    0    0    0    0    0\n",
      "     0    0    0    0    0    0    0    0    0    0    0    0    0    0\n",
      "     0    0    0    0    0    0    0    0    0    0    0    0    0    0\n",
      "     0    0    0    0    0    0    0    0    0    0    0    0    0    0\n",
      "     0    0    0    0    0    0    0    0    0    0    0    0    0    0\n",
      "     0    0    0    0    0    0    0    0    0    0    0    0    0    0\n",
      "     0    0    0    0    0    0    0    0    0    0    0    0    0    0\n",
      "     0    0    0    0    0    0    0    0    0    0    0    0    0    0\n",
      "     0    0    0    0]\n",
      " [   1    1    1    1    1    1    1    1    1    1 9536    0    0    0\n",
      "     0    0    0    0    0    0    0    0    0    0    0    0    0    0\n",
      "     0    0    0    0    0    0    0    0    0    0    0    0    0    0\n",
      "     0    0    0    0    0    0    0    0    0    0    0    0    0    0\n",
      "     0    0    0    0    0    0    0    0    0    0    0    0    0    0\n",
      "     0    0    0    0    0    0    0    0    0    0    0    0    0    0\n",
      "     0    0    0    0    0    0    0    0    0    0    0    0    0    0\n",
      "     0    0    0    0    0    0    0    0    0    0    0    0    0    0\n",
      "     0    0    0    0]]\n"
     ]
    }
   ],
   "source": [
    "test_samples_X = []\n",
    "for s in test_samples:\n",
    "    s_int = []\n",
    "    for w in s:\n",
    "        try:\n",
    "            s_int.append(word2int[w.lower()])\n",
    "        except KeyError:\n",
    "            s_int.append(word2int['-UNK-'])\n",
    "    test_samples_X.append(s_int)\n",
    " \n",
    "test_samples_X = pad_sequences(test_samples_X, maxlen=MAX_LENGTH, padding='post')\n",
    "print(test_samples_X)"
   ]
  },
  {
   "cell_type": "code",
   "execution_count": 126,
   "metadata": {
    "colab": {},
    "colab_type": "code",
    "id": "VNr2gLiTv6T0"
   },
   "outputs": [],
   "source": [
    "def logits_to_tokens(sequences, index):\n",
    "    token_sequences = []\n",
    "    for categorical_sequence in sequences:\n",
    "        token_sequence = []\n",
    "        no_pad_tokens=[]\n",
    "        for categorical in categorical_sequence:\n",
    "            token_sequence.append(index[np.argmax(categorical)])\n",
    "\n",
    "        token_sequences.append(token_sequence)\n",
    "    return token_sequences"
   ]
  },
  {
   "cell_type": "code",
   "execution_count": 127,
   "metadata": {
    "colab": {},
    "colab_type": "code",
    "id": "maRTO2MnyChK"
   },
   "outputs": [
    {
     "name": "stdout",
     "output_type": "stream",
     "text": [
      "1/1 [==============================] - 0s 112ms/step\n"
     ]
    }
   ],
   "source": [
    "predictions = model.predict(test_samples_X)\n",
    "tag_prediction = (logits_to_tokens(predictions, {i: t for t, i in tag2int.items()}))"
   ]
  },
  {
   "cell_type": "code",
   "execution_count": 128,
   "metadata": {
    "colab": {},
    "colab_type": "code",
    "id": "5M7T0dUNyE1y"
   },
   "outputs": [],
   "source": [
    "#for converting output tag sequence to without \"-PAD\" tag, if no labels given\n",
    "def pred_no_pad_without_labels(predictions):\n",
    "  final_pred = []\n",
    "  for tag_sent in predictions:\n",
    "    tag_sent_no_pad = []\n",
    "    for tags in tag_sent:\n",
    "      if tags == \"-PAD-\":\n",
    "        break\n",
    "      else:\n",
    "        tag_sent_no_pad.append(tags)\n",
    "    final_pred.append(tag_sent_no_pad)\n",
    "  return final_pred"
   ]
  },
  {
   "cell_type": "code",
   "execution_count": 129,
   "metadata": {
    "colab": {
     "base_uri": "https://localhost:8080/",
     "height": 34
    },
    "colab_type": "code",
    "id": "PiGk9FPvUXT-",
    "outputId": "c39cef4e-7874-45c2-eb88-e9821bb5cd13"
   },
   "outputs": [
    {
     "name": "stdout",
     "output_type": "stream",
     "text": [
      "[['PROPN', 'PROPN', 'PROPN', 'PROPN', 'PROPN', 'PROPN', 'PROPN', 'PROPN', 'PUNCT'], ['PROPN', 'PROPN', 'PROPN', 'PROPN', 'PROPN', 'PROPN', 'PROPN', 'PROPN', 'PROPN', 'PROPN', 'PUNCT']]\n"
     ]
    }
   ],
   "source": [
    "final_pred = pred_no_pad_without_labels(tag_prediction)\n",
    "print(final_pred)"
   ]
  },
  {
   "cell_type": "code",
   "execution_count": 130,
   "metadata": {
    "colab": {},
    "colab_type": "code",
    "id": "LqAyJc0UyJH_"
   },
   "outputs": [],
   "source": [
    "#for converting output tag sequence to without \"-PAD\" tag, if labels given\n",
    "def pred_no_pad_with_labels(predictions,test_tags):\n",
    "  final_pred = []\n",
    "  for i in range(len(predictions)):\n",
    "    k = min(len(test_tags[i]),len(predictions[i]))\n",
    "    tag_sent_no_pad = []\n",
    "    for j in range(k):\n",
    "      tag_sent_no_pad.append(predictions[i][j])\n",
    "    final_pred.append(tag_sent_no_pad)\n",
    "  return final_pred"
   ]
  },
  {
   "cell_type": "markdown",
   "metadata": {
    "colab_type": "text",
    "id": "qRhaaohvIHOm"
   },
   "source": [
    "### Prediction on test data"
   ]
  },
  {
   "cell_type": "code",
   "execution_count": 131,
   "metadata": {
    "colab": {},
    "colab_type": "code",
    "id": "tD7NzEFiPiP2"
   },
   "outputs": [
    {
     "name": "stdout",
     "output_type": "stream",
     "text": [
      "84/84 [==============================] - 19s 221ms/step\n"
     ]
    }
   ],
   "source": [
    "test_pred = model.predict(X_test)\n",
    "test_tag_pred = logits_to_tokens(test_pred, {i: t for t, i in tag2int.items()})\n",
    "test_tag_pred_no_pad = pred_no_pad_with_labels(test_tag_pred,test_tags)"
   ]
  },
  {
   "cell_type": "code",
   "execution_count": 132,
   "metadata": {
    "colab": {
     "base_uri": "https://localhost:8080/",
     "height": 34
    },
    "colab_type": "code",
    "id": "c__810Ab1jDA",
    "outputId": "d1274036-2c9c-4899-c8fc-e920d8699b72"
   },
   "outputs": [
    {
     "name": "stdout",
     "output_type": "stream",
     "text": [
      "0\n"
     ]
    }
   ],
   "source": [
    "#for counting if the length of test tag sequneces and predicted tag sequences are equall or not\n",
    "t=0\n",
    "for i in range(len(test_tags)):\n",
    "  for j in range(len(test_tag_pred_no_pad)):\n",
    "    if i==j:\n",
    "      if len(test_tags[i])!=len(test_tag_pred_no_pad[i]):\n",
    "        print(i)\n",
    "        t+=1\n",
    "print(t)"
   ]
  },
  {
   "cell_type": "code",
   "execution_count": 133,
   "metadata": {
    "colab": {},
    "colab_type": "code",
    "id": "Il_LguHxVeKp"
   },
   "outputs": [],
   "source": [
    "d = {\"true_labels\": test_tags, \"predicted_labels\":test_tag_pred_no_pad}\n",
    "pd_pred = pd.DataFrame(data=d)"
   ]
  },
  {
   "cell_type": "code",
   "execution_count": 134,
   "metadata": {
    "colab": {},
    "colab_type": "code",
    "id": "PDtJ95LrTn4k"
   },
   "outputs": [],
   "source": [
    "#for confusion matrix we make a one list for true labels and predicted labels each, \n",
    "test_words = []\n",
    "y_true=[]\n",
    "y_pred=[]\n",
    "for sent in test_tags:\n",
    "  for tag in sent:\n",
    "    y_true.append(tag)\n",
    "\n",
    "for sent in test_tag_pred_no_pad:\n",
    "  for tag in sent:\n",
    "    y_pred.append(tag)\n",
    "\n",
    "for sent in test_sentences:\n",
    "  for word in sent:\n",
    "    test_words.append(word)"
   ]
  },
  {
   "cell_type": "code",
   "execution_count": 135,
   "metadata": {
    "colab": {},
    "colab_type": "code",
    "id": "2al9S9hA2BH0"
   },
   "outputs": [],
   "source": [
    "d5th = {\"words\":test_words,\"true_label\":y_true,\"predicted_lable\":y_pred}\n",
    "dataframe_5th = pd.DataFrame(data=d5th)"
   ]
  },
  {
   "cell_type": "code",
   "execution_count": 136,
   "metadata": {
    "colab": {
     "base_uri": "https://localhost:8080/",
     "height": 204
    },
    "colab_type": "code",
    "id": "_c_qvE9p133U",
    "outputId": "df431dba-9b03-4eac-f720-36cdaa2c3b3e"
   },
   "outputs": [
    {
     "data": {
      "text/html": [
       "<div>\n",
       "<style scoped>\n",
       "    .dataframe tbody tr th:only-of-type {\n",
       "        vertical-align: middle;\n",
       "    }\n",
       "\n",
       "    .dataframe tbody tr th {\n",
       "        vertical-align: top;\n",
       "    }\n",
       "\n",
       "    .dataframe thead th {\n",
       "        text-align: right;\n",
       "    }\n",
       "</style>\n",
       "<table border=\"1\" class=\"dataframe\">\n",
       "  <thead>\n",
       "    <tr style=\"text-align: right;\">\n",
       "      <th></th>\n",
       "      <th>words</th>\n",
       "      <th>true_label</th>\n",
       "      <th>predicted_lable</th>\n",
       "    </tr>\n",
       "  </thead>\n",
       "  <tbody>\n",
       "    <tr>\n",
       "      <th>0</th>\n",
       "      <td>प्रधानमंत्री</td>\n",
       "      <td>PROPN</td>\n",
       "      <td>PROPN</td>\n",
       "    </tr>\n",
       "    <tr>\n",
       "      <th>1</th>\n",
       "      <td>इस</td>\n",
       "      <td>DET</td>\n",
       "      <td>DET</td>\n",
       "    </tr>\n",
       "    <tr>\n",
       "      <th>2</th>\n",
       "      <td>मुद्दे</td>\n",
       "      <td>NOUN</td>\n",
       "      <td>NOUN</td>\n",
       "    </tr>\n",
       "    <tr>\n",
       "      <th>3</th>\n",
       "      <td>पर</td>\n",
       "      <td>ADP</td>\n",
       "      <td>ADP</td>\n",
       "    </tr>\n",
       "    <tr>\n",
       "      <th>4</th>\n",
       "      <td>अपने</td>\n",
       "      <td>PRON</td>\n",
       "      <td>PRON</td>\n",
       "    </tr>\n",
       "  </tbody>\n",
       "</table>\n",
       "</div>"
      ],
      "text/plain": [
       "          words true_label predicted_lable\n",
       "0  प्रधानमंत्री      PROPN           PROPN\n",
       "1            इस        DET             DET\n",
       "2        मुद्दे       NOUN            NOUN\n",
       "3            पर        ADP             ADP\n",
       "4          अपने       PRON            PRON"
      ]
     },
     "execution_count": 136,
     "metadata": {},
     "output_type": "execute_result"
    }
   ],
   "source": [
    "dataframe_5th.head()"
   ]
  },
  {
   "cell_type": "code",
   "execution_count": 138,
   "metadata": {
    "colab": {
     "base_uri": "https://localhost:8080/",
     "height": 462
    },
    "colab_type": "code",
    "id": "28ViweqgDFDK",
    "outputId": "1556a490-a6bc-4061-97df-67c729bd8c74"
   },
   "outputs": [
    {
     "name": "stdout",
     "output_type": "stream",
     "text": [
      "\n",
      "Classification Report\n",
      "\n"
     ]
    },
    {
     "name": "stderr",
     "output_type": "stream",
     "text": [
      "C:\\Users\\Praveen\\AppData\\Local\\Programs\\Python\\Python310\\lib\\site-packages\\sklearn\\metrics\\_classification.py:1344: UndefinedMetricWarning: Precision and F-score are ill-defined and being set to 0.0 in labels with no predicted samples. Use `zero_division` parameter to control this behavior.\n",
      "  _warn_prf(average, modifier, msg_start, len(result))\n",
      "C:\\Users\\Praveen\\AppData\\Local\\Programs\\Python\\Python310\\lib\\site-packages\\sklearn\\metrics\\_classification.py:1344: UndefinedMetricWarning: Recall and F-score are ill-defined and being set to 0.0 in labels with no true samples. Use `zero_division` parameter to control this behavior.\n",
      "  _warn_prf(average, modifier, msg_start, len(result))\n"
     ]
    },
    {
     "name": "stdout",
     "output_type": "stream",
     "text": [
      "              precision    recall  f1-score   support\n",
      "\n",
      "           X       0.00      0.00      0.00         0\n",
      "       PUNCT       0.87      0.90      0.89      3792\n",
      "        INTJ       0.99      0.99      0.99     12135\n",
      "         AUX       0.83      0.72      0.77       555\n",
      "       CCONJ       0.97      0.99      0.98      3776\n",
      "        NOUN       0.96      0.97      0.97      1121\n",
      "         NUM       0.95      0.92      0.94      1277\n",
      "        PART       0.00      0.00      0.00         2\n",
      "         ADV       0.88      0.95      0.91     12770\n",
      "         ADJ       0.97      0.88      0.92      1125\n",
      "         DET       0.98      0.95      0.96      1150\n",
      "        PRON       0.96      0.96      0.96      2338\n",
      "       PROPN       0.91      0.82      0.86      7061\n",
      "         ADP       1.00      1.00      1.00      3875\n",
      "        VERB       0.97      0.98      0.98      1123\n",
      "       SCONJ       0.98      0.95      0.96      5893\n",
      "       -PAD-       0.50      0.03      0.05        35\n",
      "\n",
      "    accuracy                           0.94     58028\n",
      "   macro avg       0.81      0.77      0.77     58028\n",
      "weighted avg       0.94      0.94      0.94     58028\n",
      "\n"
     ]
    },
    {
     "name": "stderr",
     "output_type": "stream",
     "text": [
      "C:\\Users\\Praveen\\AppData\\Local\\Programs\\Python\\Python310\\lib\\site-packages\\sklearn\\metrics\\_classification.py:1344: UndefinedMetricWarning: Precision and F-score are ill-defined and being set to 0.0 in labels with no predicted samples. Use `zero_division` parameter to control this behavior.\n",
      "  _warn_prf(average, modifier, msg_start, len(result))\n",
      "C:\\Users\\Praveen\\AppData\\Local\\Programs\\Python\\Python310\\lib\\site-packages\\sklearn\\metrics\\_classification.py:1344: UndefinedMetricWarning: Recall and F-score are ill-defined and being set to 0.0 in labels with no true samples. Use `zero_division` parameter to control this behavior.\n",
      "  _warn_prf(average, modifier, msg_start, len(result))\n",
      "C:\\Users\\Praveen\\AppData\\Local\\Programs\\Python\\Python310\\lib\\site-packages\\sklearn\\metrics\\_classification.py:1344: UndefinedMetricWarning: Precision and F-score are ill-defined and being set to 0.0 in labels with no predicted samples. Use `zero_division` parameter to control this behavior.\n",
      "  _warn_prf(average, modifier, msg_start, len(result))\n",
      "C:\\Users\\Praveen\\AppData\\Local\\Programs\\Python\\Python310\\lib\\site-packages\\sklearn\\metrics\\_classification.py:1344: UndefinedMetricWarning: Recall and F-score are ill-defined and being set to 0.0 in labels with no true samples. Use `zero_division` parameter to control this behavior.\n",
      "  _warn_prf(average, modifier, msg_start, len(result))\n"
     ]
    }
   ],
   "source": [
    "from sklearn.metrics import classification_report\n",
    "print('\\nClassification Report\\n')\n",
    "print(classification_report(y_true, y_pred, target_names=list(unique_tags)+['-PAD-']))\n"
   ]
  },
  {
   "cell_type": "code",
   "execution_count": 139,
   "metadata": {
    "colab": {
     "base_uri": "https://localhost:8080/",
     "height": 493
    },
    "colab_type": "code",
    "id": "ivRZXZ3yDrjE",
    "outputId": "d7f0e37c-d42a-445e-e749-d84612ee73fb"
   },
   "outputs": [
    {
     "name": "stdout",
     "output_type": "stream",
     "text": [
      "Confusion Matrix\n",
      "\n",
      "[[    1     0     0     0     0    20     2     0     0     3     0     0\n",
      "      1     7     0     0     1]\n",
      " [    0  3873     0     0     0     1     0     0     0     0     0     0\n",
      "      1     0     0     0     0]\n",
      " [    0     0     0     0     0     0     0     0     0     0     0     0\n",
      "      2     0     0     0     0]\n",
      " [    0     0     0  3720     0     0     0     0     0     0     0     0\n",
      "      0     1    55     0     0]\n",
      " [    0     0     0     0  1090     0     0     0     0     0     1     0\n",
      "      4    26     0     0     0]\n",
      " [    0     0     0     1     3 12074     9     5     6   197     3    12\n",
      "    419    15    26     0     0]\n",
      " [    0     0     0     1     0    41   994     0     0    53     0     1\n",
      "     32     1     1     0     1]\n",
      " [    0     0     0     0     0     4     0  1091    10     2     0     5\n",
      "      1    22     1    14     0]\n",
      " [    0     0     0     0     2    19     1     8   399    28     8     7\n",
      "      8    67     6     1     1]\n",
      " [    1     0     0     0     5   241     2     1    18  3427     6     0\n",
      "     63     7    21     0     0]\n",
      " [    0     0     0     0    23     4     0     1     7    10  1175    57\n",
      "      0     0     0     0     0]\n",
      " [    0     0     0     2     0     6     8     0     6     4    39  2254\n",
      "      3     0     1    15     0]\n",
      " [    0     0     0     0    10  1067    13     3     0   158     0     1\n",
      "   5789    10    10     0     0]\n",
      " [    0     0     0     0     0    47     0     4    28    12     0     0\n",
      "      6 12024    14     0     0]\n",
      " [    0     0     0   105     0   128     0     3     2    34     1     1\n",
      "     14    16  5585     0     4]\n",
      " [    0     0     0     0     0     1     0     0     2     0     2    12\n",
      "      0     0     0  1106     0]\n",
      " [    0     0     0     0     0     0     0     0     0     0     0     0\n",
      "      0     0     0     0     0]]\n"
     ]
    }
   ],
   "source": [
    "from sklearn.metrics import confusion_matrix\n",
    "confusion = confusion_matrix(y_true, y_pred,labels=list(unique_tags)+['-PAD-'])\n",
    "print('Confusion Matrix\\n')\n",
    "print(confusion)"
   ]
  },
  {
   "cell_type": "code",
   "execution_count": 140,
   "metadata": {
    "colab": {},
    "colab_type": "code",
    "id": "RIF1nqb3Wtt2"
   },
   "outputs": [],
   "source": [
    "pd_confusion = pd.DataFrame((confusion), columns=list(unique_tags)+['-PAD-'],index=list(unique_tags)+['-PAD-'])"
   ]
  },
  {
   "cell_type": "code",
   "execution_count": 141,
   "metadata": {},
   "outputs": [
    {
     "data": {
      "text/html": [
       "<div>\n",
       "<style scoped>\n",
       "    .dataframe tbody tr th:only-of-type {\n",
       "        vertical-align: middle;\n",
       "    }\n",
       "\n",
       "    .dataframe tbody tr th {\n",
       "        vertical-align: top;\n",
       "    }\n",
       "\n",
       "    .dataframe thead th {\n",
       "        text-align: right;\n",
       "    }\n",
       "</style>\n",
       "<table border=\"1\" class=\"dataframe\">\n",
       "  <thead>\n",
       "    <tr style=\"text-align: right;\">\n",
       "      <th></th>\n",
       "      <th>X</th>\n",
       "      <th>PUNCT</th>\n",
       "      <th>INTJ</th>\n",
       "      <th>AUX</th>\n",
       "      <th>CCONJ</th>\n",
       "      <th>NOUN</th>\n",
       "      <th>NUM</th>\n",
       "      <th>PART</th>\n",
       "      <th>ADV</th>\n",
       "      <th>ADJ</th>\n",
       "      <th>DET</th>\n",
       "      <th>PRON</th>\n",
       "      <th>PROPN</th>\n",
       "      <th>ADP</th>\n",
       "      <th>VERB</th>\n",
       "      <th>SCONJ</th>\n",
       "      <th>-PAD-</th>\n",
       "    </tr>\n",
       "  </thead>\n",
       "  <tbody>\n",
       "    <tr>\n",
       "      <th>X</th>\n",
       "      <td>1</td>\n",
       "      <td>0</td>\n",
       "      <td>0</td>\n",
       "      <td>0</td>\n",
       "      <td>0</td>\n",
       "      <td>20</td>\n",
       "      <td>2</td>\n",
       "      <td>0</td>\n",
       "      <td>0</td>\n",
       "      <td>3</td>\n",
       "      <td>0</td>\n",
       "      <td>0</td>\n",
       "      <td>1</td>\n",
       "      <td>7</td>\n",
       "      <td>0</td>\n",
       "      <td>0</td>\n",
       "      <td>1</td>\n",
       "    </tr>\n",
       "    <tr>\n",
       "      <th>PUNCT</th>\n",
       "      <td>0</td>\n",
       "      <td>3873</td>\n",
       "      <td>0</td>\n",
       "      <td>0</td>\n",
       "      <td>0</td>\n",
       "      <td>1</td>\n",
       "      <td>0</td>\n",
       "      <td>0</td>\n",
       "      <td>0</td>\n",
       "      <td>0</td>\n",
       "      <td>0</td>\n",
       "      <td>0</td>\n",
       "      <td>1</td>\n",
       "      <td>0</td>\n",
       "      <td>0</td>\n",
       "      <td>0</td>\n",
       "      <td>0</td>\n",
       "    </tr>\n",
       "    <tr>\n",
       "      <th>INTJ</th>\n",
       "      <td>0</td>\n",
       "      <td>0</td>\n",
       "      <td>0</td>\n",
       "      <td>0</td>\n",
       "      <td>0</td>\n",
       "      <td>0</td>\n",
       "      <td>0</td>\n",
       "      <td>0</td>\n",
       "      <td>0</td>\n",
       "      <td>0</td>\n",
       "      <td>0</td>\n",
       "      <td>0</td>\n",
       "      <td>2</td>\n",
       "      <td>0</td>\n",
       "      <td>0</td>\n",
       "      <td>0</td>\n",
       "      <td>0</td>\n",
       "    </tr>\n",
       "    <tr>\n",
       "      <th>AUX</th>\n",
       "      <td>0</td>\n",
       "      <td>0</td>\n",
       "      <td>0</td>\n",
       "      <td>3720</td>\n",
       "      <td>0</td>\n",
       "      <td>0</td>\n",
       "      <td>0</td>\n",
       "      <td>0</td>\n",
       "      <td>0</td>\n",
       "      <td>0</td>\n",
       "      <td>0</td>\n",
       "      <td>0</td>\n",
       "      <td>0</td>\n",
       "      <td>1</td>\n",
       "      <td>55</td>\n",
       "      <td>0</td>\n",
       "      <td>0</td>\n",
       "    </tr>\n",
       "    <tr>\n",
       "      <th>CCONJ</th>\n",
       "      <td>0</td>\n",
       "      <td>0</td>\n",
       "      <td>0</td>\n",
       "      <td>0</td>\n",
       "      <td>1090</td>\n",
       "      <td>0</td>\n",
       "      <td>0</td>\n",
       "      <td>0</td>\n",
       "      <td>0</td>\n",
       "      <td>0</td>\n",
       "      <td>1</td>\n",
       "      <td>0</td>\n",
       "      <td>4</td>\n",
       "      <td>26</td>\n",
       "      <td>0</td>\n",
       "      <td>0</td>\n",
       "      <td>0</td>\n",
       "    </tr>\n",
       "    <tr>\n",
       "      <th>NOUN</th>\n",
       "      <td>0</td>\n",
       "      <td>0</td>\n",
       "      <td>0</td>\n",
       "      <td>1</td>\n",
       "      <td>3</td>\n",
       "      <td>12074</td>\n",
       "      <td>9</td>\n",
       "      <td>5</td>\n",
       "      <td>6</td>\n",
       "      <td>197</td>\n",
       "      <td>3</td>\n",
       "      <td>12</td>\n",
       "      <td>419</td>\n",
       "      <td>15</td>\n",
       "      <td>26</td>\n",
       "      <td>0</td>\n",
       "      <td>0</td>\n",
       "    </tr>\n",
       "    <tr>\n",
       "      <th>NUM</th>\n",
       "      <td>0</td>\n",
       "      <td>0</td>\n",
       "      <td>0</td>\n",
       "      <td>1</td>\n",
       "      <td>0</td>\n",
       "      <td>41</td>\n",
       "      <td>994</td>\n",
       "      <td>0</td>\n",
       "      <td>0</td>\n",
       "      <td>53</td>\n",
       "      <td>0</td>\n",
       "      <td>1</td>\n",
       "      <td>32</td>\n",
       "      <td>1</td>\n",
       "      <td>1</td>\n",
       "      <td>0</td>\n",
       "      <td>1</td>\n",
       "    </tr>\n",
       "    <tr>\n",
       "      <th>PART</th>\n",
       "      <td>0</td>\n",
       "      <td>0</td>\n",
       "      <td>0</td>\n",
       "      <td>0</td>\n",
       "      <td>0</td>\n",
       "      <td>4</td>\n",
       "      <td>0</td>\n",
       "      <td>1091</td>\n",
       "      <td>10</td>\n",
       "      <td>2</td>\n",
       "      <td>0</td>\n",
       "      <td>5</td>\n",
       "      <td>1</td>\n",
       "      <td>22</td>\n",
       "      <td>1</td>\n",
       "      <td>14</td>\n",
       "      <td>0</td>\n",
       "    </tr>\n",
       "    <tr>\n",
       "      <th>ADV</th>\n",
       "      <td>0</td>\n",
       "      <td>0</td>\n",
       "      <td>0</td>\n",
       "      <td>0</td>\n",
       "      <td>2</td>\n",
       "      <td>19</td>\n",
       "      <td>1</td>\n",
       "      <td>8</td>\n",
       "      <td>399</td>\n",
       "      <td>28</td>\n",
       "      <td>8</td>\n",
       "      <td>7</td>\n",
       "      <td>8</td>\n",
       "      <td>67</td>\n",
       "      <td>6</td>\n",
       "      <td>1</td>\n",
       "      <td>1</td>\n",
       "    </tr>\n",
       "    <tr>\n",
       "      <th>ADJ</th>\n",
       "      <td>1</td>\n",
       "      <td>0</td>\n",
       "      <td>0</td>\n",
       "      <td>0</td>\n",
       "      <td>5</td>\n",
       "      <td>241</td>\n",
       "      <td>2</td>\n",
       "      <td>1</td>\n",
       "      <td>18</td>\n",
       "      <td>3427</td>\n",
       "      <td>6</td>\n",
       "      <td>0</td>\n",
       "      <td>63</td>\n",
       "      <td>7</td>\n",
       "      <td>21</td>\n",
       "      <td>0</td>\n",
       "      <td>0</td>\n",
       "    </tr>\n",
       "    <tr>\n",
       "      <th>DET</th>\n",
       "      <td>0</td>\n",
       "      <td>0</td>\n",
       "      <td>0</td>\n",
       "      <td>0</td>\n",
       "      <td>23</td>\n",
       "      <td>4</td>\n",
       "      <td>0</td>\n",
       "      <td>1</td>\n",
       "      <td>7</td>\n",
       "      <td>10</td>\n",
       "      <td>1175</td>\n",
       "      <td>57</td>\n",
       "      <td>0</td>\n",
       "      <td>0</td>\n",
       "      <td>0</td>\n",
       "      <td>0</td>\n",
       "      <td>0</td>\n",
       "    </tr>\n",
       "    <tr>\n",
       "      <th>PRON</th>\n",
       "      <td>0</td>\n",
       "      <td>0</td>\n",
       "      <td>0</td>\n",
       "      <td>2</td>\n",
       "      <td>0</td>\n",
       "      <td>6</td>\n",
       "      <td>8</td>\n",
       "      <td>0</td>\n",
       "      <td>6</td>\n",
       "      <td>4</td>\n",
       "      <td>39</td>\n",
       "      <td>2254</td>\n",
       "      <td>3</td>\n",
       "      <td>0</td>\n",
       "      <td>1</td>\n",
       "      <td>15</td>\n",
       "      <td>0</td>\n",
       "    </tr>\n",
       "    <tr>\n",
       "      <th>PROPN</th>\n",
       "      <td>0</td>\n",
       "      <td>0</td>\n",
       "      <td>0</td>\n",
       "      <td>0</td>\n",
       "      <td>10</td>\n",
       "      <td>1067</td>\n",
       "      <td>13</td>\n",
       "      <td>3</td>\n",
       "      <td>0</td>\n",
       "      <td>158</td>\n",
       "      <td>0</td>\n",
       "      <td>1</td>\n",
       "      <td>5789</td>\n",
       "      <td>10</td>\n",
       "      <td>10</td>\n",
       "      <td>0</td>\n",
       "      <td>0</td>\n",
       "    </tr>\n",
       "    <tr>\n",
       "      <th>ADP</th>\n",
       "      <td>0</td>\n",
       "      <td>0</td>\n",
       "      <td>0</td>\n",
       "      <td>0</td>\n",
       "      <td>0</td>\n",
       "      <td>47</td>\n",
       "      <td>0</td>\n",
       "      <td>4</td>\n",
       "      <td>28</td>\n",
       "      <td>12</td>\n",
       "      <td>0</td>\n",
       "      <td>0</td>\n",
       "      <td>6</td>\n",
       "      <td>12024</td>\n",
       "      <td>14</td>\n",
       "      <td>0</td>\n",
       "      <td>0</td>\n",
       "    </tr>\n",
       "    <tr>\n",
       "      <th>VERB</th>\n",
       "      <td>0</td>\n",
       "      <td>0</td>\n",
       "      <td>0</td>\n",
       "      <td>105</td>\n",
       "      <td>0</td>\n",
       "      <td>128</td>\n",
       "      <td>0</td>\n",
       "      <td>3</td>\n",
       "      <td>2</td>\n",
       "      <td>34</td>\n",
       "      <td>1</td>\n",
       "      <td>1</td>\n",
       "      <td>14</td>\n",
       "      <td>16</td>\n",
       "      <td>5585</td>\n",
       "      <td>0</td>\n",
       "      <td>4</td>\n",
       "    </tr>\n",
       "    <tr>\n",
       "      <th>SCONJ</th>\n",
       "      <td>0</td>\n",
       "      <td>0</td>\n",
       "      <td>0</td>\n",
       "      <td>0</td>\n",
       "      <td>0</td>\n",
       "      <td>1</td>\n",
       "      <td>0</td>\n",
       "      <td>0</td>\n",
       "      <td>2</td>\n",
       "      <td>0</td>\n",
       "      <td>2</td>\n",
       "      <td>12</td>\n",
       "      <td>0</td>\n",
       "      <td>0</td>\n",
       "      <td>0</td>\n",
       "      <td>1106</td>\n",
       "      <td>0</td>\n",
       "    </tr>\n",
       "    <tr>\n",
       "      <th>-PAD-</th>\n",
       "      <td>0</td>\n",
       "      <td>0</td>\n",
       "      <td>0</td>\n",
       "      <td>0</td>\n",
       "      <td>0</td>\n",
       "      <td>0</td>\n",
       "      <td>0</td>\n",
       "      <td>0</td>\n",
       "      <td>0</td>\n",
       "      <td>0</td>\n",
       "      <td>0</td>\n",
       "      <td>0</td>\n",
       "      <td>0</td>\n",
       "      <td>0</td>\n",
       "      <td>0</td>\n",
       "      <td>0</td>\n",
       "      <td>0</td>\n",
       "    </tr>\n",
       "  </tbody>\n",
       "</table>\n",
       "</div>"
      ],
      "text/plain": [
       "       X  PUNCT  INTJ   AUX  CCONJ   NOUN  NUM  PART  ADV   ADJ   DET  PRON  \\\n",
       "X      1      0     0     0      0     20    2     0    0     3     0     0   \n",
       "PUNCT  0   3873     0     0      0      1    0     0    0     0     0     0   \n",
       "INTJ   0      0     0     0      0      0    0     0    0     0     0     0   \n",
       "AUX    0      0     0  3720      0      0    0     0    0     0     0     0   \n",
       "CCONJ  0      0     0     0   1090      0    0     0    0     0     1     0   \n",
       "NOUN   0      0     0     1      3  12074    9     5    6   197     3    12   \n",
       "NUM    0      0     0     1      0     41  994     0    0    53     0     1   \n",
       "PART   0      0     0     0      0      4    0  1091   10     2     0     5   \n",
       "ADV    0      0     0     0      2     19    1     8  399    28     8     7   \n",
       "ADJ    1      0     0     0      5    241    2     1   18  3427     6     0   \n",
       "DET    0      0     0     0     23      4    0     1    7    10  1175    57   \n",
       "PRON   0      0     0     2      0      6    8     0    6     4    39  2254   \n",
       "PROPN  0      0     0     0     10   1067   13     3    0   158     0     1   \n",
       "ADP    0      0     0     0      0     47    0     4   28    12     0     0   \n",
       "VERB   0      0     0   105      0    128    0     3    2    34     1     1   \n",
       "SCONJ  0      0     0     0      0      1    0     0    2     0     2    12   \n",
       "-PAD-  0      0     0     0      0      0    0     0    0     0     0     0   \n",
       "\n",
       "       PROPN    ADP  VERB  SCONJ  -PAD-  \n",
       "X          1      7     0      0      1  \n",
       "PUNCT      1      0     0      0      0  \n",
       "INTJ       2      0     0      0      0  \n",
       "AUX        0      1    55      0      0  \n",
       "CCONJ      4     26     0      0      0  \n",
       "NOUN     419     15    26      0      0  \n",
       "NUM       32      1     1      0      1  \n",
       "PART       1     22     1     14      0  \n",
       "ADV        8     67     6      1      1  \n",
       "ADJ       63      7    21      0      0  \n",
       "DET        0      0     0      0      0  \n",
       "PRON       3      0     1     15      0  \n",
       "PROPN   5789     10    10      0      0  \n",
       "ADP        6  12024    14      0      0  \n",
       "VERB      14     16  5585      0      4  \n",
       "SCONJ      0      0     0   1106      0  \n",
       "-PAD-      0      0     0      0      0  "
      ]
     },
     "execution_count": 141,
     "metadata": {},
     "output_type": "execute_result"
    }
   ],
   "source": [
    "pd_confusion"
   ]
  },
  {
   "cell_type": "code",
   "execution_count": null,
   "metadata": {},
   "outputs": [],
   "source": []
  }
 ],
 "metadata": {
  "accelerator": "GPU",
  "colab": {
   "collapsed_sections": [],
   "name": "run_on_colab.ipynb",
   "provenance": []
  },
  "kernelspec": {
   "display_name": "Python 3 (ipykernel)",
   "language": "python",
   "name": "python3"
  },
  "language_info": {
   "codemirror_mode": {
    "name": "ipython",
    "version": 3
   },
   "file_extension": ".py",
   "mimetype": "text/x-python",
   "name": "python",
   "nbconvert_exporter": "python",
   "pygments_lexer": "ipython3",
   "version": "3.10.0"
  }
 },
 "nbformat": 4,
 "nbformat_minor": 1
}
